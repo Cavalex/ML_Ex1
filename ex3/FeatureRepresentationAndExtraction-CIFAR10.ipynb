{
 "cells": [
  {
   "cell_type": "code",
   "execution_count": 1,
   "metadata": {},
   "outputs": [],
   "source": [
    "import pandas as pd\n",
    "import tensorflow as tf\n",
    "import matplotlib.pyplot as plt\n",
    "import cv2\n",
    "from tensorflow import keras\n",
    "from keras import datasets, layers, models, losses\n",
    "from random import choice"
   ]
  },
  {
   "cell_type": "code",
   "execution_count": null,
   "metadata": {},
   "outputs": [],
   "source": [
    "image_data = tf.keras.datasets.cifar10\n",
    "(train_img, train_labels), (test_img, test_labels) = image_data.load_data()\n",
    "\n",
    "colors=(\"r\", \"g\", \"b\")\n",
    "\n",
    "# this will read the image passed and return a 3-channel histogram of it\n",
    "#path = r\"test_images/lenna.png\"\n",
    "#path = r\"test_images/rgb_test.png\"\n",
    "#path = r\"test_images/rgb_test2.webp\"\n",
    "#colormap1 = cv2.imread(path) # stores images in BGR format\n",
    "#colormap1=cv2.cvtColor(colormap1, cv2.COLOR_BGR2RGB)\n",
    "\n",
    "colormap1 = train_img[100] #choice(train_img)\n",
    "\n",
    "chans=cv2.split(colormap1)\n",
    "\n",
    "_, axs = plt.subplots(1, 4, figsize=(12, 12))\n",
    "plt.imshow(colormap1)\n",
    "axs = axs.flatten() # works but vscode marks as an error for some reason\n",
    "i = 0\n",
    "for img, ax in zip(chans, axs):\n",
    "    ax.set_title(colors[i])\n",
    "    ax.imshow(img)\n",
    "    i += 1\n",
    "plt.show()\n",
    "\n",
    "plt.figure()\n",
    "plt.title(\"Color histogram\")\n",
    "plt.xlabel(\"Bins\")\n",
    "plt.ylabel(\"Number of pixels\")\n",
    "for (chan, c) in zip(chans, colors):\n",
    "    hist=cv2.calcHist([chan], [0], None, [256], [0,256])\n",
    "    plt.plot(hist, color=c)\n",
    "    plt.xlim([0,256])\n",
    "plt.show()"
   ]
  },
  {
   "cell_type": "code",
   "execution_count": 8,
   "metadata": {},
   "outputs": [
    {
     "name": "stdout",
     "output_type": "stream",
     "text": [
      "Dividing 50000 images into channels...\n"
     ]
    }
   ],
   "source": [
    "# this will divide every image in the training set into their respective channels and store them\n",
    "\n",
    "results = [] # a tuple in the form (label, image, [channels])\n",
    "\n",
    "print(f\"Dividing {len(train_img)} images into channels...\")\n",
    "for i in range(len(train_img)):\n",
    "    chans=cv2.split(train_img[i])\n",
    "    results.append((train_labels[i], train_img[i], chans))\n"
   ]
  }
 ],
 "metadata": {
  "kernelspec": {
   "display_name": "Python 3",
   "language": "python",
   "name": "python3"
  },
  "language_info": {
   "codemirror_mode": {
    "name": "ipython",
    "version": 3
   },
   "file_extension": ".py",
   "mimetype": "text/x-python",
   "name": "python",
   "nbconvert_exporter": "python",
   "pygments_lexer": "ipython3",
   "version": "3.10.8"
  },
  "orig_nbformat": 4,
  "vscode": {
   "interpreter": {
    "hash": "32b6365f16a9560d1f64eaf7f0cd3e0262cb733df60217a199a198ac26346325"
   }
  }
 },
 "nbformat": 4,
 "nbformat_minor": 2
}
